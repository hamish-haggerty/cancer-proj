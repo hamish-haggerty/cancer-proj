{
  "cells": [
    {
      "cell_type": "markdown",
      "metadata": {
        "id": "-l5yQSiCoQvl"
      },
      "source": [
        "# cancer_metrics\n",
        "\n",
        "> Metrics (e.g. ROC) and also a `predict_model` function that is more efficient than FastAI defaults when the dataset is small."
      ]
    },
    {
      "cell_type": "code",
      "execution_count": 1,
      "metadata": {
        "id": "7h2mDuF0oQvr"
      },
      "outputs": [],
      "source": [
        "#| default_exp cancer_metrics"
      ]
    },
    {
      "cell_type": "code",
      "execution_count": 2,
      "metadata": {
        "id": "O7xboPTAoQvt",
        "colab": {
          "base_uri": "https://localhost:8080/"
        },
        "outputId": "341d1ff5-e725-4592-e989-533dc35c59a3"
      },
      "outputs": [
        {
          "output_type": "stream",
          "name": "stdout",
          "text": [
            "Mounted at /content/drive\n"
          ]
        }
      ],
      "source": [
        "#| hide\n",
        "\n",
        "def colab_is_true():\n",
        "\n",
        "    try: \n",
        "        from google.colab import drive\n",
        "\n",
        "        return True \n",
        "    except ModuleNotFoundError:\n",
        "        return False\n",
        "\n",
        "def setup_colab():\n",
        "    import os\n",
        "    from google.colab import drive\n",
        "    drive.mount('/content/drive')\n",
        "    os.system('unzip -q \"/content/drive/My Drive/archive (1).zip\"')\n",
        "    os.chdir('drive/MyDrive/cancer-proj')\n",
        "    os.system('git pull')\n",
        "    os.system('pip install -qU -e .')\n",
        "    os.system('pip install -qU nbdev')\n",
        "    os.system('nbdev_install_quarto')\n",
        "\n",
        "if __name__ == \"__main__\":\n",
        "    on_colab = colab_is_true()\n",
        "    if on_colab:\n",
        "        setup_colab()"
      ]
    },
    {
      "cell_type": "code",
      "execution_count": 3,
      "metadata": {
        "id": "TnQFlGuIoQvu"
      },
      "outputs": [],
      "source": [
        "#| hide\n",
        "\n",
        "from nbdev.showdoc import *"
      ]
    },
    {
      "cell_type": "markdown",
      "metadata": {
        "id": "hSbCArLGoQvv"
      },
      "source": [
        "## Predictions given xval and yval:"
      ]
    },
    {
      "cell_type": "code",
      "execution_count": 11,
      "metadata": {
        "id": "pYfltl5hoQvv"
      },
      "outputs": [],
      "source": [
        "#| hide\n",
        "from fastai.vision.all import *"
      ]
    },
    {
      "cell_type": "code",
      "execution_count": 5,
      "metadata": {
        "id": "VgS1N05coQvw"
      },
      "outputs": [],
      "source": [
        "#| export\n",
        "\n",
        "#Fine tune and predict\n",
        "\n",
        "@torch.no_grad()\n",
        "def predict_model(xval,yval,model,aug_pipelines_test,numavg=3):\n",
        "    \"Note that this assumes xval is entire validation set. If it doesn't fit in memory, can't use this guy\"\n",
        "    \n",
        "    model.eval()\n",
        "\n",
        "    test_eq(model.encoder.training,False)\n",
        "\n",
        "    N=xval.shape[0]\n",
        "\n",
        "    scores=0\n",
        "    for _ in range(numavg):\n",
        "\n",
        "        scores += model(aug_pipelines_test(xval)) #test time augmentation. This also gets around issue of randomness in the dataloader in each session...\n",
        "\n",
        "    scores *= 1/numavg\n",
        "\n",
        "    ypred = cast(torch.argmax(scores, dim=1),TensorCategory)\n",
        "\n",
        "    correct = (ypred == yval)#.type(torch.FloatTensor)\n",
        "\n",
        "    #correct = (torch.argmax(ypred,dim=1) == yval).type(torch.FloatTensor)\n",
        "    num_correct = correct.sum()\n",
        "    accuracy = num_correct/N\n",
        "    \n",
        "    return scores,ypred,accuracy.item()\n",
        "\n"
      ]
    },
    {
      "cell_type": "code",
      "execution_count": 6,
      "metadata": {
        "id": "08_hMJd1oQvx"
      },
      "outputs": [],
      "source": [
        "#| export\n",
        "from sklearn.metrics import classification_report\n",
        "\n",
        "def classification_report_wrapper(ypred, y, vocab, print_report=True):\n",
        "    # Convert ypred and y to numpy arrays\n",
        "    ypred = ypred.cpu().numpy()\n",
        "    y = y.cpu().numpy()\n",
        "    \n",
        "    # Get the class labels from vocab\n",
        "    labels = [vocab[i] for i in range(len(vocab))]\n",
        "    \n",
        "    # Get the classification report as a dictionary\n",
        "    report = classification_report(y, ypred, target_names=labels, output_dict=True)\n",
        "    \n",
        "    if print_report:\n",
        "        print(classification_report(y, ypred, target_names=labels))\n",
        "        \n",
        "    return report\n"
      ]
    },
    {
      "cell_type": "code",
      "execution_count": 7,
      "metadata": {
        "id": "qOQciatJoQvy"
      },
      "outputs": [],
      "source": [
        "#| export\n",
        "\n",
        "import seaborn as sns\n",
        "import pandas as pd\n",
        "from sklearn.metrics import confusion_matrix\n",
        "\n",
        "def print_confusion_matrix(ypred, y, vocab):\n",
        "    # Convert ypred and y to numpy arrays\n",
        "    ypred = ypred.cpu().numpy()\n",
        "    y = y.cpu().numpy()\n",
        "    \n",
        "    # Get the class labels from vocab\n",
        "    labels = [vocab[i] for i in range(len(vocab))]\n",
        "    \n",
        "    # Create the confusion matrix\n",
        "    cm = confusion_matrix(y, ypred)\n",
        "    \n",
        "    # Create a DataFrame from the confusion matrix\n",
        "    df_cm = pd.DataFrame(cm, index = labels, columns = labels)\n",
        "    \n",
        "    # Use seaborn to create a heatmap of the confusion matrix with blue and white colors\n",
        "    sns.heatmap(df_cm, annot=True, cmap=\"Blues\")\n"
      ]
    },
    {
      "cell_type": "code",
      "execution_count": 8,
      "metadata": {
        "id": "y4chWJ84oQvz"
      },
      "outputs": [],
      "source": [
        "#| export\n",
        "\n",
        "from sklearn.metrics import roc_curve, auc\n",
        "from sklearn.preprocessing import label_binarize\n",
        "import matplotlib.pyplot as plt\n",
        "\n",
        "def plot_roc(yval,ypred,vocab,print_plot=True):\n",
        "    \"plot 1 vs all roc curves\"\n",
        "\n",
        "    yval = yval.cpu().numpy()\n",
        "    ypred = ypred.cpu().numpy()\n",
        "\n",
        "    N=len(vocab)\n",
        "    # Binarize the output\n",
        "    y_true = label_binarize(yval, classes=list(range(N)))\n",
        "    y_pred = label_binarize(ypred, classes=list(range(N)))\n",
        "\n",
        "    # Compute ROC for each class\n",
        "    fpr = dict()\n",
        "    tpr = dict()\n",
        "    roc_auc = dict()\n",
        "    for i in range(N):\n",
        "        fpr[i], tpr[i], _ = roc_curve(y_true[:, i], y_pred[:, i])\n",
        "        roc_auc[i] = auc(fpr[i], tpr[i])\n",
        "\n",
        "    auc_dict = dict(zip([vocab[i] for i in roc_auc.keys()],list(roc_auc.values()))) #just change keys from e.g. 0 to 'actinic keratosis'\n",
        "\n",
        "    if print_plot == False: return auc_dict\n",
        "\n",
        "    # Plot ROC for each class\n",
        "    plt.figure(figsize=(7,5))\n",
        "    lw = 2\n",
        "    for i in range(N):\n",
        "        plt.plot(fpr[i], tpr[i], lw=lw, label='{0} (area = {1:0.2f})'.format(vocab[i], roc_auc[i]))\n",
        "    plt.plot([0, 1], [0, 1], 'k--', lw=lw)\n",
        "    plt.xlim([0.0, 1.0])\n",
        "    plt.ylim([0.0, 1.05])\n",
        "    plt.xlabel('False Positive Rate')\n",
        "    plt.ylabel('True Positive Rate')\n",
        "    plt.title('Multi-class ROC')\n",
        "    #plt.legend(loc=\"lower right\")\n",
        "    plt.legend(loc=\"lower right\", fontsize=8)\n",
        "    \n",
        "\n",
        "    return auc_dict\n",
        "\n",
        "#auc_dict = plot_roc(yval=yval,ypred=preds,vocab=vocab,print_plot=False)"
      ]
    },
    {
      "cell_type": "code",
      "execution_count": 9,
      "metadata": {
        "id": "wx1004gzoQv0"
      },
      "outputs": [],
      "source": [
        "#| hide\n",
        "import nbdev; nbdev.nbdev_export()"
      ]
    }
  ],
  "metadata": {
    "kernelspec": {
      "display_name": "renamelater",
      "language": "python",
      "name": "python3"
    },
    "colab": {
      "provenance": []
    }
  },
  "nbformat": 4,
  "nbformat_minor": 0
}