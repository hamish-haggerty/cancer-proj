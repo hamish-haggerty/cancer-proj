{
  "cells": [
    {
      "cell_type": "markdown",
      "metadata": {
        "id": "view-in-github",
        "colab_type": "text"
      },
      "source": [
        "<a href=\"https://colab.research.google.com/github/hamish-haggerty/cancer-proj/blob/main/cancer-proj/nbs/cancer_dataloading.ipynb\" target=\"_parent\"><img src=\"https://colab.research.google.com/assets/colab-badge.svg\" alt=\"Open In Colab\"/></a>"
      ]
    },
    {
      "cell_type": "markdown",
      "metadata": {
        "id": "mlvX--V51AaK"
      },
      "source": [
        "# cancer_dataloading\n",
        "\n",
        "> Helper functions etc to load cancer data. Will also install nbdev etc if in Colab (not sure yet if I need this functionality)"
      ]
    },
    {
      "cell_type": "code",
      "execution_count": null,
      "metadata": {
        "id": "s0j-mrUi1AaP"
      },
      "outputs": [],
      "source": [
        "#| default_exp cancer_dataloading"
      ]
    },
    {
      "cell_type": "code",
      "execution_count": null,
      "metadata": {
        "colab": {
          "base_uri": "https://localhost:8080/"
        },
        "id": "vt7qta801AaR",
        "outputId": "52bd2158-736e-4020-d911-59052fed8de2"
      },
      "outputs": [
        {
          "output_type": "stream",
          "name": "stdout",
          "text": [
            "Mounted at /content/drive\n",
            "fatal: not a git repository (or any of the parent directories): .git\n",
            "/content/drive/MyDrive/cancer-proj\n",
            "  Preparing metadata (setup.py) ... \u001b[?25l\u001b[?25hdone\n",
            "  Preparing metadata (setup.py) ... \u001b[?25l\u001b[?25hdone\n",
            "\u001b[2K     \u001b[90m━━━━━━━━━━━━━━━━━━━━━━━━━━━━━━━━━━━━━━\u001b[0m \u001b[32m569.1/569.1 KB\u001b[0m \u001b[31m20.1 MB/s\u001b[0m eta \u001b[36m0:00:00\u001b[0m\n",
            "\u001b[2K     \u001b[90m━━━━━━━━━━━━━━━━━━━━━━━━━━━━━━━━━━━━━━━━\u001b[0m \u001b[32m41.6/41.6 KB\u001b[0m \u001b[31m4.2 MB/s\u001b[0m eta \u001b[36m0:00:00\u001b[0m\n",
            "\u001b[2K     \u001b[90m━━━━━━━━━━━━━━━━━━━━━━━━━━━━━━━━━━━━━━\u001b[0m \u001b[32m549.1/549.1 KB\u001b[0m \u001b[31m36.8 MB/s\u001b[0m eta \u001b[36m0:00:00\u001b[0m\n",
            "\u001b[2K     \u001b[90m━━━━━━━━━━━━━━━━━━━━━━━━━━━━━━━━━━━━━━\u001b[0m \u001b[32m190.3/190.3 KB\u001b[0m \u001b[31m18.7 MB/s\u001b[0m eta \u001b[36m0:00:00\u001b[0m\n",
            "\u001b[?25h  Building wheel for base_rbt (setup.py) ... \u001b[?25l\u001b[?25hdone\n",
            "\u001b[2K     \u001b[90m━━━━━━━━━━━━━━━━━━━━━━━━━━━━━━━━━━━━━━━━\u001b[0m \u001b[32m64.1/64.1 KB\u001b[0m \u001b[31m3.7 MB/s\u001b[0m eta \u001b[36m0:00:00\u001b[0m\n",
            "\u001b[2K     \u001b[90m━━━━━━━━━━━━━━━━━━━━━━━━━━━━━━━━━━━━━━━━\u001b[0m \u001b[32m58.1/58.1 KB\u001b[0m \u001b[31m6.9 MB/s\u001b[0m eta \u001b[36m0:00:00\u001b[0m\n",
            "\u001b[2K     \u001b[90m━━━━━━━━━━━━━━━━━━━━━━━━━━━━━━━━━━━━━━━━\u001b[0m \u001b[32m79.0/79.0 KB\u001b[0m \u001b[31m9.1 MB/s\u001b[0m eta \u001b[36m0:00:00\u001b[0m\n",
            "\u001b[2K     \u001b[90m━━━━━━━━━━━━━━━━━━━━━━━━━━━━━━━━━━━━━━━━\u001b[0m \u001b[32m1.6/1.6 MB\u001b[0m \u001b[31m52.8 MB/s\u001b[0m eta \u001b[36m0:00:00\u001b[0m\n",
            "\u001b[?25hInstalling or upgrading quarto -- this requires root access.\n",
            "  % Total    % Received % Xferd  Average Speed   Time    Time     Time  Current\n",
            "                                 Dload  Upload   Total   Spent    Left  Speed\n",
            "100    72  100    72    0     0    458      0 --:--:-- --:--:-- --:--:--   458\n",
            "100   113  100   113    0     0    283      0 --:--:-- --:--:-- --:--:--   283\n",
            "  0     0    0     0    0     0      0      0 --:--:-- --:--:-- --:--:--     0\n",
            "100 73.8M  100 73.8M    0     0  9370k      0  0:00:08  0:00:08 --:--:-- 8397k\n",
            "Selecting previously unselected package quarto.\n",
            "(Reading database ... 129499 files and directories currently installed.)\n",
            "Preparing to unpack quarto-linux-amd64.deb ...\n",
            "Unpacking quarto (1.2.313) ...\n",
            "Setting up quarto (1.2.313) ...\n"
          ]
        }
      ],
      "source": [
        "#| hide\n",
        "\n",
        "try:\n",
        "    from google.colab import drive\n",
        "    drive.mount('/content/drive')\n",
        "    !git pull\n",
        "    !unzip -q \"/content/drive/My Drive/archive (1).zip\"\n",
        "\n",
        "    %cd drive/MyDrive/cancer-proj\n",
        "    #!pip install -e .\n",
        "    !pip install -qU -e .\n",
        "    !pip install -qU nbdev\n",
        "    !nbdev_install_quarto\n",
        "\n",
        "\n",
        "except ModuleNotFoundError:\n",
        "    pass"
      ]
    },
    {
      "cell_type": "code",
      "source": [
        "#| hide\n",
        "\n",
        "from nbdev.showdoc import *"
      ],
      "metadata": {
        "id": "PZRboPg78dLT"
      },
      "execution_count": null,
      "outputs": []
    },
    {
      "cell_type": "code",
      "execution_count": null,
      "metadata": {
        "id": "BZiMzR6V1AaT"
      },
      "outputs": [],
      "source": [
        "#| export\n",
        "\n",
        "#TODO: Refactor base_rbt library such that can import in one line \n",
        "\n",
        "import fastai\n",
        "from fastai.vision.all import *\n",
        "\n",
        "from base_rbt.base_model import * \n",
        "from base_rbt.base_lf import *\n",
        "from base_rbt.base_linear import *\n",
        "from base_rbt.helper import *\n"
      ]
    },
    {
      "cell_type": "code",
      "execution_count": null,
      "metadata": {
        "id": "lmTq4SsH1AaT"
      },
      "outputs": [],
      "source": [
        "#| export\n",
        "#colab\n",
        "colab_train_dir='skin_cancer_ISIC/Train'\n",
        "colab_test_dir='skin_cancer_ISIC/Test'"
      ]
    },
    {
      "cell_type": "code",
      "execution_count": null,
      "metadata": {
        "id": "ZG6t_7da1AaU"
      },
      "outputs": [],
      "source": [
        "#| export\n",
        "#local\n",
        "local_train_dir='/Users/hamishhaggerty/Downloads/skin_cancer_ISIC/Train'\n",
        "local_test_dir='/Users/hamishhaggerty/Downloads/skin_cancer_ISIC/Test'"
      ]
    },
    {
      "cell_type": "code",
      "source": [
        "#| hide\n",
        "\n",
        "try:\n",
        "    from google.colab import drive\n",
        "    train_dir = colab_train_dir\n",
        "    test_dir = colab_test_dir\n",
        "\n",
        "except ModuleNotFoundError:\n",
        "\n",
        "    train_dir = local_train_dir\n",
        "    test_dir = local_test_dir"
      ],
      "metadata": {
        "id": "-vJ6xm038toh"
      },
      "execution_count": null,
      "outputs": []
    },
    {
      "cell_type": "code",
      "execution_count": null,
      "metadata": {
        "id": "4k026CcW1AaV"
      },
      "outputs": [],
      "source": [
        "#| export\n",
        "\n",
        "#Seems all we need here is class_names?\n",
        "\n",
        "def get_file_lists(train_dir):\n",
        "\n",
        "    #train\n",
        "    class_names0 = os.listdir(train_dir)\n",
        "    class_names = sorted(class_names0)\n",
        "    num_class = len(class_names)\n",
        "    image_files = [[os.path.join(train_dir, class_name, x) \n",
        "                for x in os.listdir(os.path.join(train_dir, class_name))] \n",
        "                for class_name in class_names]\n",
        "\n",
        "    image_file_list = []\n",
        "    image_label_list = []\n",
        "    for i, class_name in enumerate(class_names):\n",
        "        image_file_list.extend(image_files[i])\n",
        "        image_label_list.extend([i] * len(image_files[i]))\n",
        "    num_total = len(image_label_list)\n",
        "\n",
        "    return {'image_file_list':image_file_list, 'image_label_list':image_label_list, 'num_total':num_total, 'num_class':num_class, 'class_names':class_names}\n"
      ]
    },
    {
      "cell_type": "code",
      "execution_count": null,
      "metadata": {
        "id": "F8LmdFZc1AaW"
      },
      "outputs": [],
      "source": [
        "#| export\n",
        "\n",
        "#Helper functions to extract class names from the filenames\n",
        "import re\n",
        "def extract_text(string):\n",
        "    # Use the compile method to create a RegexObject\n",
        "    pattern = re.compile(r'/Train/(.*?)/ISIC')\n",
        "\n",
        "    # Use the search method of the RegexObject to find the pattern in the string\n",
        "    match = pattern.search(string)\n",
        "\n",
        "    # If a match is found, return the matched text\n",
        "    if match:\n",
        "        return match.group(1)\n",
        "    # If no match is found, return None\n",
        "    else:\n",
        "        \n",
        "        return None\n",
        "\n",
        "def label_func(x): return extract_text(x.as_posix())\n",
        "\n",
        "def get_difference(x1, x2):\n",
        "    return list(set(x1) - set(x2))\n"
      ]
    },
    {
      "cell_type": "code",
      "execution_count": null,
      "metadata": {
        "id": "Ir9LOB8W1AaW"
      },
      "outputs": [],
      "source": [
        "#| export\n",
        "\n",
        "def get_fnames_dict(train_dir,test_dir,class_names):\n",
        "    \"get dictionary of fnames\"\n",
        "\n",
        "        #files names\n",
        "    fnames = get_image_files(train_dir)\n",
        "\n",
        "    #Extract training set\n",
        "    max_num =100 #maximum number of samples in each class\n",
        "    count_dict = {i:0 for i in class_names}\n",
        "    fnames_train = []\n",
        "    for i in fnames:\n",
        "        #st=extract_text(i.as_posix())\n",
        "        st=label_func(i)\n",
        "        \n",
        "        if count_dict[st]<max_num: #no more than 100 samples per category\n",
        "            fnames_train.append(i)\n",
        "            count_dict[st]+=1\n",
        "                    \n",
        "    #We further partition fnames_train into a tune-valiation set\n",
        "    count_dict2 = {i:0 for i in class_names}\n",
        "    fnames_tune = []\n",
        "    for i in fnames_train:\n",
        "        st = label_func(i)\n",
        "        if count_dict2[st] < 0.8*count_dict[st]:\n",
        "            fnames_tune.append(i)\n",
        "            count_dict2[st]+=1\n",
        "            \n",
        "\n",
        "    fnames_valid = get_difference(fnames_train,fnames_tune)\n",
        "\n",
        "    fnames_test = get_difference(fnames,fnames_train) + get_image_files(test_dir)\n",
        "\n",
        "    return {'fnames':fnames,'fnames_train':fnames_train,'fnames_tune':fnames_tune,\n",
        "            'fnames_valid':fnames_valid,\n",
        "            'fnames_test':fnames_test\n",
        "            }\n",
        "\n"
      ]
    },
    {
      "cell_type": "code",
      "execution_count": null,
      "metadata": {
        "id": "VIR-E2Ix1AaX"
      },
      "outputs": [],
      "source": [
        "#| export\n",
        "\n",
        "def get_data_dict(fnames_dict,train_dir,test_dir, #basic stuff needed\n",
        "                  device,bs_val,bs=256,bs_tune=256,size=128,n_in=3 #hyperparameters\n",
        "                 ):\n",
        "        \"get dictionary of data\"\n",
        "\n",
        "        #fnames = fnames_dict['fnames']\n",
        "        fnames_train = fnames_dict['fnames_train']\n",
        "        fnames_tune = fnames_dict['fnames_tune']\n",
        "        fnames_valid = fnames_dict['fnames_valid']\n",
        "        #fnames_test = fnames_dict['fnames_test']\n",
        "\n",
        "        item_tfms = [Resize(size)]\n",
        "\n",
        "        dls_train  = ImageDataLoaders.from_path_func(train_dir, fnames_train, label_func,\n",
        "                                        bs=bs,\n",
        "                                        item_tfms=item_tfms,\n",
        "                                        valid_pct=0,\n",
        "                                        device=device,\n",
        "                                        num_workers=12*(device=='cuda')\n",
        "                                        )\n",
        "        x,y = dls_train.one_batch()\n",
        "\n",
        "        dls_tune = ImageDataLoaders.from_path_func(train_dir, fnames_tune, label_func,\n",
        "                                        bs=bs_tune,\n",
        "                                        item_tfms=item_tfms,\n",
        "                                        valid_pct=0,\n",
        "                                        device=device,\n",
        "                                        shuffle=True,\n",
        "                                        num_workers=12*(device=='cuda'),\n",
        "                                        )\n",
        "        xtune,ytune = dls_tune.one_batch()\n",
        "\n",
        "        dls_valid  = ImageDataLoaders.from_path_func(train_dir, fnames_valid, label_func,\n",
        "                                        bs=bs_val,\n",
        "                                        item_tfms=item_tfms,\n",
        "                                        valid_pct=0,\n",
        "                                        num_workers=12*(device=='cuda')\n",
        "                                        )\n",
        "        \n",
        "        xval,yval = dls_valid.one_batch()\n",
        "\n",
        "        vocab = dls_valid.vocab\n",
        "\n",
        "        #return the dls etc\n",
        "        return {'dls_train':dls_train,'dls_tune':dls_tune,'dls_valid':dls_valid,\n",
        "                'x':x,'y':y,'xval':xval,'yval':yval,'xtune':xtune,'ytune':ytune,\n",
        "                'vocab':vocab\n",
        "                }\n"
      ]
    },
    {
      "cell_type": "code",
      "execution_count": null,
      "metadata": {
        "id": "kBQX1vHU1AaY"
      },
      "outputs": [],
      "source": [
        "#| export\n",
        "\n",
        "def get_fnames_dls_dict(train_dir,test_dir,\n",
        "                        device,bs_val,bs=256,bs_tune=256,size=128,n_in=3,\n",
        "                        ):\n",
        "\n",
        "    \"Wrapper that returns a dictionary with the fnames, dls etc\"\n",
        "\n",
        "    #do stuff\n",
        "\n",
        "    class_names = get_file_lists(train_dir)['class_names']\n",
        "    \n",
        "    fnames_dict = get_fnames_dict(train_dir,test_dir,class_names)\n",
        "\n",
        "    data_dict = get_data_dict(fnames_dict,train_dir,test_dir, #basic stuff needed\n",
        "                  device,bs_val,bs=256,bs_tune=256,size=128,n_in=3 #hyperparameters\n",
        "                 )\n",
        "\n",
        "    d = {**fnames_dict,**data_dict}\n",
        "    \n",
        "    return d\n",
        "\n"
      ]
    },
    {
      "cell_type": "code",
      "execution_count": null,
      "metadata": {
        "id": "aux_UClz1AaZ"
      },
      "outputs": [],
      "source": [
        "#| hide\n",
        "\n",
        "#How we want to use\n",
        "\n",
        "#define general hps\n",
        "device ='cuda' if torch.cuda.is_available() else 'cpu'\n",
        "bs=256\n",
        "bs_tune=256\n",
        "size=128\n",
        "bs_val=174\n",
        "#can define other hyperparameters here\n",
        "\n",
        "#get the data dictionary\n",
        "data_dict = get_fnames_dls_dict(train_dir=train_dir,test_dir=test_dir,\n",
        "                    device=device,bs_val=bs_val,bs=bs,bs_tune=bs_tune,size=size,n_in=3)\n",
        "\n",
        "#get the dataloaders and other stuff \n",
        "dls_train,dls_tune,dls_valid = data_dict['dls_train'],data_dict['dls_tune'],data_dict['dls_valid']\n",
        "x,y = data_dict['x'],data_dict['y']\n",
        "xval,yval = data_dict['xval'],data_dict['yval']\n",
        "xtune,ytune = data_dict['xtune'],data_dict['ytune']\n",
        "vocab = data_dict['vocab']\n",
        "\n",
        "#If we want to write some tests (make sure the data is same every time etc):\n",
        "fnames,fnames_train,fnames_tune,fnames_valid,fnames_test = data_dict['fnames'],data_dict['fnames_train'],data_dict['fnames_tune'],data_dict['fnames_valid'],data_dict['fnames_test']"
      ]
    },
    {
      "cell_type": "code",
      "execution_count": null,
      "metadata": {
        "id": "Run3gHlh1Aaa"
      },
      "outputs": [],
      "source": [
        "#| hide\n",
        "\n",
        "#Some simple tests\n",
        "\n",
        "#test shapes\n",
        "test_eq(x.shape[0],bs)\n",
        "test_eq(xtune.shape[0],bs_tune)\n",
        "test_eq(xval.shape[0],bs_val)\n",
        "\n",
        "#test yval has same number of instances of each class each time...\n",
        "if yval.shape[0] == 174:\n",
        "    test_eq(yval.sum().item(),688.)\n",
        "\n",
        "#TODO: Write tests that check that the fnames are the same every time\n"
      ]
    },
    {
      "cell_type": "code",
      "execution_count": null,
      "metadata": {
        "id": "-B3u1dGZ1Aaa"
      },
      "outputs": [],
      "source": [
        "#| export\n",
        "\n",
        "def get_resnet_encoder(model,n_in=3):\n",
        "    model = create_body(model, n_in=n_in, pretrained=False, cut=len(list(model.children()))-1)\n",
        "    model.add_module('flatten', torch.nn.Flatten())\n",
        "    return model\n",
        "\n",
        "def create_model(which_model=None,n_in=3):\n",
        "\n",
        "    #pretrained=True if 'which_model' in ['bt_pretrain', 'supervised_pretrain'] else False\n",
        "\n",
        "    if which_model == 'bt_pretrain': model = torch.hub.load('facebookresearch/barlowtwins:main', 'resnet50')\n",
        "    \n",
        "    elif which_model == 'no_pretrain': model = resnet50()\n",
        "\n",
        "    elif which_model == 'supervised_pretrain': model = resnet50(weights='IMAGENET1K_V2')\n",
        "\n",
        "    #ignore the 'pretrained=False' argument here. Just means we use the weights above \n",
        "    #(which themselves are either pretrained or not)\n",
        "    encoder = get_resnet_encoder(model)\n",
        "\n",
        "    model = create_barlow_twins_model(encoder, hidden_size=ps,projection_size=ps,nlayers=3)\n",
        "\n",
        "    if device == 'cuda':\n",
        "        model.cuda()\n",
        "        encoder.cuda()\n",
        "\n",
        "\n",
        "    return model,encoder"
      ]
    },
    {
      "cell_type": "code",
      "execution_count": null,
      "metadata": {
        "colab": {
          "base_uri": "https://localhost:8080/",
          "height": 120,
          "referenced_widgets": [
            "2e5d01c59e2442a89999ef342767928f",
            "d7fbbd2d057347ee9d720bf0cc20d95e",
            "9029ac02f91d4f1c8ccc2bfa6499f678",
            "4ff098bc42164d889a6a48ef657c9ac6",
            "3a368e59a9f343728261af39515d3dec",
            "3b7e467105cd4f3dbda86ad5ffbf7a3b",
            "e6268c2421984c3a973e44639cdd1bc0",
            "99d969ca13dc41528f6916b2826fb353",
            "088df4bc4a6046b1a49431f26507e7bd",
            "d4f33e2ed43e4c4793680472296d250e",
            "a35c7466e92949a6babf077f81caa71d"
          ]
        },
        "id": "YIsPOY7n1Aaa",
        "outputId": "12d43098-bbb5-4b77-e568-175636c64928"
      },
      "outputs": [
        {
          "output_type": "stream",
          "name": "stderr",
          "text": [
            "Using cache found in /root/.cache/torch/hub/facebookresearch_barlowtwins_main\n",
            "Using cache found in /root/.cache/torch/hub/facebookresearch_barlowtwins_main\n",
            "Using cache found in /root/.cache/torch/hub/facebookresearch_barlowtwins_main\n",
            "Downloading: \"https://download.pytorch.org/models/resnet50-11ad3fa6.pth\" to /root/.cache/torch/hub/checkpoints/resnet50-11ad3fa6.pth\n"
          ]
        },
        {
          "output_type": "display_data",
          "data": {
            "text/plain": [
              "  0%|          | 0.00/97.8M [00:00<?, ?B/s]"
            ],
            "application/vnd.jupyter.widget-view+json": {
              "version_major": 2,
              "version_minor": 0,
              "model_id": "2e5d01c59e2442a89999ef342767928f"
            }
          },
          "metadata": {}
        }
      ],
      "source": [
        "#| hide\n",
        "\n",
        "#test\n",
        "\n",
        "ps=8192\n",
        "device=device=default_device().type\n",
        "cuda=(device=='cuda')\n",
        "\n",
        "model,encoder = create_model(which_model='bt_pretrain')\n",
        "for p in model.parameters():\n",
        "    test_eq(p.requires_grad,True)\n",
        "\n",
        "#| hide\n",
        "\n",
        "def sum_params(model):\n",
        "\n",
        "    s=0\n",
        "    for p in model.parameters():\n",
        "        s+=p.sum()\n",
        "    return s.item()\n",
        "\n",
        "\n",
        "def run_tests():\n",
        "\n",
        "    #Test that shape of encoder is 2048\n",
        "    _,e = create_model(which_model='bt_pretrain')\n",
        "    test_eq(e(x).shape[1],2048) \n",
        "\n",
        "    #Test that pretrained models (encoders) have the same weights (roughyl) each time\n",
        "    _,e = create_model(which_model='bt_pretrain')\n",
        "    test_eq((sum_params(e)-175864.4062)<0.001,True)\n",
        "\n",
        "    _,e = create_model(which_model='supervised_pretrain')\n",
        "    test_eq((sum_params(e)-39438.5078125)<0.001,True)\n",
        "\n",
        "    #Test that non-pretrained model has diff (i.e. random) weights each time\n",
        "    _,e1 = create_model(which_model='no_pretrain')\n",
        "    _,e2 = create_model(which_model='no_pretrain')\n",
        "    test_ne(sum_params(e1),sum_params(e2))\n",
        "\n",
        "run_tests()\n",
        "# if device == 'cuda':\n",
        "#     run_tests()"
      ]
    },
    {
      "cell_type": "code",
      "source": [
        "#| hide\n",
        "\n",
        "print('hello world')"
      ],
      "metadata": {
        "colab": {
          "base_uri": "https://localhost:8080/"
        },
        "id": "3LHYm9PRYupn",
        "outputId": "5fd16af0-fbb8-49d0-c0a2-fb020216b28d"
      },
      "execution_count": 1,
      "outputs": [
        {
          "output_type": "stream",
          "name": "stdout",
          "text": [
            "hello world\n"
          ]
        }
      ]
    },
    {
      "cell_type": "code",
      "execution_count": null,
      "metadata": {
        "id": "cVGLEPut1Aab"
      },
      "outputs": [],
      "source": [
        "#| hide\n",
        "import nbdev; nbdev.nbdev_export()"
      ]
    }
  ],
  "metadata": {
    "kernelspec": {
      "display_name": "renamelater",
      "language": "python",
      "name": "python3"
    },
    "colab": {
      "provenance": [],
      "include_colab_link": true
    },
    "widgets": {
      "application/vnd.jupyter.widget-state+json": {
        "2e5d01c59e2442a89999ef342767928f": {
          "model_module": "@jupyter-widgets/controls",
          "model_name": "HBoxModel",
          "model_module_version": "1.5.0",
          "state": {
            "_dom_classes": [],
            "_model_module": "@jupyter-widgets/controls",
            "_model_module_version": "1.5.0",
            "_model_name": "HBoxModel",
            "_view_count": null,
            "_view_module": "@jupyter-widgets/controls",
            "_view_module_version": "1.5.0",
            "_view_name": "HBoxView",
            "box_style": "",
            "children": [
              "IPY_MODEL_d7fbbd2d057347ee9d720bf0cc20d95e",
              "IPY_MODEL_9029ac02f91d4f1c8ccc2bfa6499f678",
              "IPY_MODEL_4ff098bc42164d889a6a48ef657c9ac6"
            ],
            "layout": "IPY_MODEL_3a368e59a9f343728261af39515d3dec"
          }
        },
        "d7fbbd2d057347ee9d720bf0cc20d95e": {
          "model_module": "@jupyter-widgets/controls",
          "model_name": "HTMLModel",
          "model_module_version": "1.5.0",
          "state": {
            "_dom_classes": [],
            "_model_module": "@jupyter-widgets/controls",
            "_model_module_version": "1.5.0",
            "_model_name": "HTMLModel",
            "_view_count": null,
            "_view_module": "@jupyter-widgets/controls",
            "_view_module_version": "1.5.0",
            "_view_name": "HTMLView",
            "description": "",
            "description_tooltip": null,
            "layout": "IPY_MODEL_3b7e467105cd4f3dbda86ad5ffbf7a3b",
            "placeholder": "​",
            "style": "IPY_MODEL_e6268c2421984c3a973e44639cdd1bc0",
            "value": "100%"
          }
        },
        "9029ac02f91d4f1c8ccc2bfa6499f678": {
          "model_module": "@jupyter-widgets/controls",
          "model_name": "FloatProgressModel",
          "model_module_version": "1.5.0",
          "state": {
            "_dom_classes": [],
            "_model_module": "@jupyter-widgets/controls",
            "_model_module_version": "1.5.0",
            "_model_name": "FloatProgressModel",
            "_view_count": null,
            "_view_module": "@jupyter-widgets/controls",
            "_view_module_version": "1.5.0",
            "_view_name": "ProgressView",
            "bar_style": "success",
            "description": "",
            "description_tooltip": null,
            "layout": "IPY_MODEL_99d969ca13dc41528f6916b2826fb353",
            "max": 102540417,
            "min": 0,
            "orientation": "horizontal",
            "style": "IPY_MODEL_088df4bc4a6046b1a49431f26507e7bd",
            "value": 102540417
          }
        },
        "4ff098bc42164d889a6a48ef657c9ac6": {
          "model_module": "@jupyter-widgets/controls",
          "model_name": "HTMLModel",
          "model_module_version": "1.5.0",
          "state": {
            "_dom_classes": [],
            "_model_module": "@jupyter-widgets/controls",
            "_model_module_version": "1.5.0",
            "_model_name": "HTMLModel",
            "_view_count": null,
            "_view_module": "@jupyter-widgets/controls",
            "_view_module_version": "1.5.0",
            "_view_name": "HTMLView",
            "description": "",
            "description_tooltip": null,
            "layout": "IPY_MODEL_d4f33e2ed43e4c4793680472296d250e",
            "placeholder": "​",
            "style": "IPY_MODEL_a35c7466e92949a6babf077f81caa71d",
            "value": " 97.8M/97.8M [00:00&lt;00:00, 175MB/s]"
          }
        },
        "3a368e59a9f343728261af39515d3dec": {
          "model_module": "@jupyter-widgets/base",
          "model_name": "LayoutModel",
          "model_module_version": "1.2.0",
          "state": {
            "_model_module": "@jupyter-widgets/base",
            "_model_module_version": "1.2.0",
            "_model_name": "LayoutModel",
            "_view_count": null,
            "_view_module": "@jupyter-widgets/base",
            "_view_module_version": "1.2.0",
            "_view_name": "LayoutView",
            "align_content": null,
            "align_items": null,
            "align_self": null,
            "border": null,
            "bottom": null,
            "display": null,
            "flex": null,
            "flex_flow": null,
            "grid_area": null,
            "grid_auto_columns": null,
            "grid_auto_flow": null,
            "grid_auto_rows": null,
            "grid_column": null,
            "grid_gap": null,
            "grid_row": null,
            "grid_template_areas": null,
            "grid_template_columns": null,
            "grid_template_rows": null,
            "height": null,
            "justify_content": null,
            "justify_items": null,
            "left": null,
            "margin": null,
            "max_height": null,
            "max_width": null,
            "min_height": null,
            "min_width": null,
            "object_fit": null,
            "object_position": null,
            "order": null,
            "overflow": null,
            "overflow_x": null,
            "overflow_y": null,
            "padding": null,
            "right": null,
            "top": null,
            "visibility": null,
            "width": null
          }
        },
        "3b7e467105cd4f3dbda86ad5ffbf7a3b": {
          "model_module": "@jupyter-widgets/base",
          "model_name": "LayoutModel",
          "model_module_version": "1.2.0",
          "state": {
            "_model_module": "@jupyter-widgets/base",
            "_model_module_version": "1.2.0",
            "_model_name": "LayoutModel",
            "_view_count": null,
            "_view_module": "@jupyter-widgets/base",
            "_view_module_version": "1.2.0",
            "_view_name": "LayoutView",
            "align_content": null,
            "align_items": null,
            "align_self": null,
            "border": null,
            "bottom": null,
            "display": null,
            "flex": null,
            "flex_flow": null,
            "grid_area": null,
            "grid_auto_columns": null,
            "grid_auto_flow": null,
            "grid_auto_rows": null,
            "grid_column": null,
            "grid_gap": null,
            "grid_row": null,
            "grid_template_areas": null,
            "grid_template_columns": null,
            "grid_template_rows": null,
            "height": null,
            "justify_content": null,
            "justify_items": null,
            "left": null,
            "margin": null,
            "max_height": null,
            "max_width": null,
            "min_height": null,
            "min_width": null,
            "object_fit": null,
            "object_position": null,
            "order": null,
            "overflow": null,
            "overflow_x": null,
            "overflow_y": null,
            "padding": null,
            "right": null,
            "top": null,
            "visibility": null,
            "width": null
          }
        },
        "e6268c2421984c3a973e44639cdd1bc0": {
          "model_module": "@jupyter-widgets/controls",
          "model_name": "DescriptionStyleModel",
          "model_module_version": "1.5.0",
          "state": {
            "_model_module": "@jupyter-widgets/controls",
            "_model_module_version": "1.5.0",
            "_model_name": "DescriptionStyleModel",
            "_view_count": null,
            "_view_module": "@jupyter-widgets/base",
            "_view_module_version": "1.2.0",
            "_view_name": "StyleView",
            "description_width": ""
          }
        },
        "99d969ca13dc41528f6916b2826fb353": {
          "model_module": "@jupyter-widgets/base",
          "model_name": "LayoutModel",
          "model_module_version": "1.2.0",
          "state": {
            "_model_module": "@jupyter-widgets/base",
            "_model_module_version": "1.2.0",
            "_model_name": "LayoutModel",
            "_view_count": null,
            "_view_module": "@jupyter-widgets/base",
            "_view_module_version": "1.2.0",
            "_view_name": "LayoutView",
            "align_content": null,
            "align_items": null,
            "align_self": null,
            "border": null,
            "bottom": null,
            "display": null,
            "flex": null,
            "flex_flow": null,
            "grid_area": null,
            "grid_auto_columns": null,
            "grid_auto_flow": null,
            "grid_auto_rows": null,
            "grid_column": null,
            "grid_gap": null,
            "grid_row": null,
            "grid_template_areas": null,
            "grid_template_columns": null,
            "grid_template_rows": null,
            "height": null,
            "justify_content": null,
            "justify_items": null,
            "left": null,
            "margin": null,
            "max_height": null,
            "max_width": null,
            "min_height": null,
            "min_width": null,
            "object_fit": null,
            "object_position": null,
            "order": null,
            "overflow": null,
            "overflow_x": null,
            "overflow_y": null,
            "padding": null,
            "right": null,
            "top": null,
            "visibility": null,
            "width": null
          }
        },
        "088df4bc4a6046b1a49431f26507e7bd": {
          "model_module": "@jupyter-widgets/controls",
          "model_name": "ProgressStyleModel",
          "model_module_version": "1.5.0",
          "state": {
            "_model_module": "@jupyter-widgets/controls",
            "_model_module_version": "1.5.0",
            "_model_name": "ProgressStyleModel",
            "_view_count": null,
            "_view_module": "@jupyter-widgets/base",
            "_view_module_version": "1.2.0",
            "_view_name": "StyleView",
            "bar_color": null,
            "description_width": ""
          }
        },
        "d4f33e2ed43e4c4793680472296d250e": {
          "model_module": "@jupyter-widgets/base",
          "model_name": "LayoutModel",
          "model_module_version": "1.2.0",
          "state": {
            "_model_module": "@jupyter-widgets/base",
            "_model_module_version": "1.2.0",
            "_model_name": "LayoutModel",
            "_view_count": null,
            "_view_module": "@jupyter-widgets/base",
            "_view_module_version": "1.2.0",
            "_view_name": "LayoutView",
            "align_content": null,
            "align_items": null,
            "align_self": null,
            "border": null,
            "bottom": null,
            "display": null,
            "flex": null,
            "flex_flow": null,
            "grid_area": null,
            "grid_auto_columns": null,
            "grid_auto_flow": null,
            "grid_auto_rows": null,
            "grid_column": null,
            "grid_gap": null,
            "grid_row": null,
            "grid_template_areas": null,
            "grid_template_columns": null,
            "grid_template_rows": null,
            "height": null,
            "justify_content": null,
            "justify_items": null,
            "left": null,
            "margin": null,
            "max_height": null,
            "max_width": null,
            "min_height": null,
            "min_width": null,
            "object_fit": null,
            "object_position": null,
            "order": null,
            "overflow": null,
            "overflow_x": null,
            "overflow_y": null,
            "padding": null,
            "right": null,
            "top": null,
            "visibility": null,
            "width": null
          }
        },
        "a35c7466e92949a6babf077f81caa71d": {
          "model_module": "@jupyter-widgets/controls",
          "model_name": "DescriptionStyleModel",
          "model_module_version": "1.5.0",
          "state": {
            "_model_module": "@jupyter-widgets/controls",
            "_model_module_version": "1.5.0",
            "_model_name": "DescriptionStyleModel",
            "_view_count": null,
            "_view_module": "@jupyter-widgets/base",
            "_view_module_version": "1.2.0",
            "_view_name": "StyleView",
            "description_width": ""
          }
        }
      }
    }
  },
  "nbformat": 4,
  "nbformat_minor": 0
}