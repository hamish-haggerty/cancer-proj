{
 "cells": [
  {
   "cell_type": "markdown",
   "id": "033898e8",
   "metadata": {},
   "source": [
    "Alright, we are in \"reproducibility hell\" at the moment, but (possibly) getting somewhere.\n",
    "\n",
    "Anyway, we can move on despite this, or concurrently with it. How, exactly? Well, we can finish writing the code to run our several experiments / ideas. Then, suppose that in a bad scenario it takes another week to fix the reproducibility problem. Then, I can just run all the notebooks/experiments and get final results, in ~ 1 day or so. Also, I can continue with the writing of the paper, and also need to start writing my thesis (gah!) next week. But yeah, working on the paper sort of counts in that respect anyway. (Copy paste across). Need to get started on thesis TOMORROW."
   ]
  },
  {
   "cell_type": "code",
   "execution_count": null,
   "id": "d88b09f5",
   "metadata": {},
   "outputs": [],
   "source": []
  }
 ],
 "metadata": {
  "kernelspec": {
   "display_name": "Python 3 (ipykernel)",
   "language": "python",
   "name": "python3"
  }
 },
 "nbformat": 4,
 "nbformat_minor": 5
}
