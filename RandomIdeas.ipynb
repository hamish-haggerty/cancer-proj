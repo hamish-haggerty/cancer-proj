{
 "cells": [
  {
   "cell_type": "markdown",
   "id": "033898e8",
   "metadata": {},
   "source": [
    "Ok, all we have at the moment "
   ]
  }
 ],
 "metadata": {
  "kernelspec": {
   "display_name": "Python 3 (ipykernel)",
   "language": "python",
   "name": "python3"
  }
 },
 "nbformat": 4,
 "nbformat_minor": 5
}
